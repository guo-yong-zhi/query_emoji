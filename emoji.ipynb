{
 "cells": [
  {
   "cell_type": "code",
   "execution_count": 1,
   "metadata": {},
   "outputs": [],
   "source": [
    "# https://github.com/uclnlp/emoji2vec/tree/master"
   ]
  },
  {
   "cell_type": "code",
   "execution_count": 2,
   "metadata": {},
   "outputs": [],
   "source": [
    "import os\n",
    "os.environ[\"HF_HOME\"] = \"/data/.cache/huggingface\""
   ]
  },
  {
   "cell_type": "code",
   "execution_count": 3,
   "metadata": {},
   "outputs": [
    {
     "name": "stderr",
     "output_type": "stream",
     "text": [
      "/data/clipx/venv/lib/python3.10/site-packages/tqdm/auto.py:21: TqdmWarning: IProgress not found. Please update jupyter and ipywidgets. See https://ipywidgets.readthedocs.io/en/stable/user_install.html\n",
      "  from .autonotebook import tqdm as notebook_tqdm\n",
      "OpenBLAS WARNING - could not determine the L2 cache size on this system, assuming 256k\n"
     ]
    },
    {
     "name": "stdout",
     "output_type": "stream",
     "text": [
      "0.7860602\n"
     ]
    }
   ],
   "source": [
    "from transformers import AutoModel\n",
    "from numpy.linalg import norm\n",
    "\n",
    "cos_sim = lambda a,b: (a @ b.T) / (norm(a)*norm(b))\n",
    "model = AutoModel.from_pretrained('jinaai/jina-embeddings-v2-base-zh', trust_remote_code=True) # trust_remote_code is needed to use the encode method\n",
    "embeddings = model.encode(['How is the weather today?', '今天天气怎么样?'])\n",
    "print(cos_sim(embeddings[0], embeddings[1]))"
   ]
  },
  {
   "cell_type": "code",
   "execution_count": 4,
   "metadata": {},
   "outputs": [
    {
     "data": {
      "text/plain": [
       "(0.3786118, 0.18881394)"
      ]
     },
     "execution_count": 4,
     "metadata": {},
     "output_type": "execute_result"
    }
   ],
   "source": [
    "v1 = model.encode(\"月亮\")\n",
    "v2 = model.encode(\"汽车\")\n",
    "v = model.encode(\"🌕\")\n",
    "cos_sim(v, v1), cos_sim(v, v2)"
   ]
  },
  {
   "cell_type": "code",
   "execution_count": 5,
   "metadata": {},
   "outputs": [],
   "source": [
    "def parse_emoji_table(fn):\n",
    "    emoji_table = [l.strip().split(\"\\t\") for l in open(fn).readlines()]\n",
    "    emoji_des = {}\n",
    "    for d,k in emoji_table:\n",
    "        if \"Ideograph\" in d:\n",
    "            continue\n",
    "        sws = [\"Negative Squared \", \"Circled \", \"Curved \", \"Squared \", \"Keycap \", \"Clock Face \"]\n",
    "        stopwords = []\n",
    "        for w in sws:\n",
    "            stopwords.append(w)\n",
    "            stopwords.append(w.lower())\n",
    "        for w in stopwords:\n",
    "            if w in d:\n",
    "                d2 = d.replace(w, \"\")\n",
    "                if k in emoji_des:\n",
    "                    if d2 not in emoji_des[k]:\n",
    "                        emoji_des[k].append(d2)\n",
    "                        break\n",
    "                else:\n",
    "                    emoji_des[k] = [d2]\n",
    "        if k in emoji_des:\n",
    "            if d not in emoji_des[k]:\n",
    "                emoji_des[k].append(d)\n",
    "        else:\n",
    "            emoji_des[k] = [d]\n",
    "    return emoji_des\n",
    "emoji_des0 = parse_emoji_table(\"emoji_table0.txt\")\n"
   ]
  },
  {
   "cell_type": "code",
   "execution_count": 6,
   "metadata": {},
   "outputs": [],
   "source": [
    "def decode_emoji(emoji_code):\n",
    "    return chr(int(emoji_code[2:], 16))\n",
    "emoji_des0 = {decode_emoji(k): v for k, v in emoji_des0.items()}\n",
    "emoji_des0 = {k:f\"{k}: \" + \", \".join(v) for k,v in emoji_des0.items()}\n"
   ]
  },
  {
   "cell_type": "code",
   "execution_count": 7,
   "metadata": {},
   "outputs": [],
   "source": [
    "emoji_des1 = parse_emoji_table(\"emoji_table.txt\")\n",
    "emoji_des1 = {k:f\"{k}: \" + \", \".join(v) for k,v in emoji_des1.items()}"
   ]
  },
  {
   "cell_type": "code",
   "execution_count": 8,
   "metadata": {},
   "outputs": [
    {
     "data": {
      "text/plain": [
       "(1012, 1661)"
      ]
     },
     "execution_count": 8,
     "metadata": {},
     "output_type": "execute_result"
    }
   ],
   "source": [
    "len(emoji_des0), len(emoji_des1)"
   ]
  },
  {
   "cell_type": "code",
   "execution_count": 21,
   "metadata": {},
   "outputs": [
    {
     "data": {
      "text/plain": [
       "('🐈: Cat, Feline, Housecat, Domestic Cat',\n",
       " '🐈: domestic cat, kitten, housecat, feline, cat, meow')"
      ]
     },
     "execution_count": 21,
     "metadata": {},
     "output_type": "execute_result"
    }
   ],
   "source": [
    "e = \"🐈\"\n",
    "emoji_des0.get(e, None), emoji_des1.get(e, None)"
   ]
  },
  {
   "cell_type": "code",
   "execution_count": 10,
   "metadata": {},
   "outputs": [],
   "source": [
    "emoji_embeddings0 = {k:model.encode(v) for k,v in emoji_des0.items()}\n",
    "emoji_embeddings1 = {k:model.encode(v) for k,v in emoji_des1.items()}"
   ]
  },
  {
   "cell_type": "code",
   "execution_count": 11,
   "metadata": {},
   "outputs": [
    {
     "data": {
      "text/plain": [
       "(1012, 1661)"
      ]
     },
     "execution_count": 11,
     "metadata": {},
     "output_type": "execute_result"
    }
   ],
   "source": [
    "len(emoji_embeddings0), len(emoji_embeddings1)"
   ]
  },
  {
   "cell_type": "code",
   "execution_count": 12,
   "metadata": {},
   "outputs": [],
   "source": [
    "emoji_embeddings = emoji_embeddings0.copy()\n",
    "for k,v in emoji_embeddings1.items():\n",
    "    if k not in emoji_embeddings:\n",
    "        emoji_embeddings[k] = v\n",
    "    else:\n",
    "        r = 0.9\n",
    "        emoji_embeddings[k] = r * emoji_embeddings[k] + (1-r) * v\n"
   ]
  },
  {
   "cell_type": "code",
   "execution_count": 13,
   "metadata": {},
   "outputs": [],
   "source": [
    "import pickle\n",
    "# save emoji_embeddings\n",
    "pickle.dump(emoji_embeddings, open('emoji_embeddings.pkl', 'wb'))\n",
    "pickle.dump(emoji_embeddings, open('emoji_embeddings0.pkl', 'wb'))\n",
    "pickle.dump(emoji_embeddings, open('emoji_embeddings1.pkl', 'wb'))\n",
    "\n",
    "# load emoji_embeddings\n",
    "emoji_embeddings = pickle.load(open('emoji_embeddings.pkl', 'rb'))"
   ]
  },
  {
   "cell_type": "code",
   "execution_count": 14,
   "metadata": {},
   "outputs": [],
   "source": [
    "nomred_emoji_embeddings = {k:v/norm(v) for k,v in emoji_embeddings.items()}\n",
    "pickle.dump(nomred_emoji_embeddings, open('emoji_normed_embeddings.pkl', 'wb'))\n",
    "emoji_embeddings = pickle.load(open('emoji_normed_embeddings.pkl', 'rb'))"
   ]
  },
  {
   "cell_type": "code",
   "execution_count": 15,
   "metadata": {},
   "outputs": [],
   "source": [
    "import numpy as np\n",
    "emoji_list = np.array(list(emoji_embeddings.keys()))\n",
    "\n",
    "# emoji_list = np.array([decode_emoji(emoji_code) for emoji_code in emoji_code_list])"
   ]
  },
  {
   "cell_type": "code",
   "execution_count": 16,
   "metadata": {},
   "outputs": [],
   "source": [
    "emoji_Fs = np.stack(list(emoji_embeddings.values()))"
   ]
  },
  {
   "cell_type": "code",
   "execution_count": 17,
   "metadata": {},
   "outputs": [],
   "source": [
    "# dump emoji_Fs use numpy\n",
    "\n",
    "np.save(\"emoji.npy\", {\"emoji_features\": emoji_Fs, \"emoji_list\": emoji_list})\n",
    "    \n"
   ]
  },
  {
   "cell_type": "markdown",
   "metadata": {},
   "source": [
    "emoji = np.load('emoji.npy', allow_pickle=True).item()\n",
    "emoji_features = emoji['emoji_features']\n"
   ]
  },
  {
   "cell_type": "markdown",
   "metadata": {},
   "source": []
  }
 ],
 "metadata": {
  "kernelspec": {
   "display_name": "venv",
   "language": "python",
   "name": "python3"
  },
  "language_info": {
   "codemirror_mode": {
    "name": "ipython",
    "version": 3
   },
   "file_extension": ".py",
   "mimetype": "text/x-python",
   "name": "python",
   "nbconvert_exporter": "python",
   "pygments_lexer": "ipython3",
   "version": "3.10.13"
  }
 },
 "nbformat": 4,
 "nbformat_minor": 2
}
