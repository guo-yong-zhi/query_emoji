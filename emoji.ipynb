{
 "cells": [
  {
   "cell_type": "code",
   "execution_count": null,
   "metadata": {},
   "outputs": [],
   "source": [
    "# https://github.com/uclnlp/emoji2vec/tree/master"
   ]
  },
  {
   "cell_type": "code",
   "execution_count": 1,
   "metadata": {},
   "outputs": [
    {
     "name": "stderr",
     "output_type": "stream",
     "text": [
      "/data/clipx/venv/lib/python3.10/site-packages/tqdm/auto.py:21: TqdmWarning: IProgress not found. Please update jupyter and ipywidgets. See https://ipywidgets.readthedocs.io/en/stable/user_install.html\n",
      "  from .autonotebook import tqdm as notebook_tqdm\n",
      "OpenBLAS WARNING - could not determine the L2 cache size on this system, assuming 256k\n"
     ]
    },
    {
     "name": "stdout",
     "output_type": "stream",
     "text": [
      "0.7860602\n"
     ]
    }
   ],
   "source": [
    "from transformers import AutoModel\n",
    "from numpy.linalg import norm\n",
    "\n",
    "cos_sim = lambda a,b: (a @ b.T) / (norm(a)*norm(b))\n",
    "model = AutoModel.from_pretrained('jinaai/jina-embeddings-v2-base-zh', trust_remote_code=True) # trust_remote_code is needed to use the encode method\n",
    "embeddings = model.encode(['How is the weather today?', '今天天气怎么样?'])\n",
    "print(cos_sim(embeddings[0], embeddings[1]))"
   ]
  },
  {
   "cell_type": "code",
   "execution_count": 44,
   "metadata": {},
   "outputs": [],
   "source": [
    "emoji_des_fn = \"emoji_table0.txt\"\n",
    "emoji_table = [l.strip().split(\"\\t\") for l in open(emoji_des_fn).readlines()]\n",
    "emoji_des = {}\n",
    "for d,k in emoji_table:\n",
    "    d = d.lower()\n",
    "    if k in emoji_des:\n",
    "        emoji_des[k].append(d)\n",
    "    else:\n",
    "        emoji_des[k] = [d]\n",
    "# emoji_des = {k:\", \".join(v) for k,v in emoji_des.items()}\n",
    "emoji_des0 = emoji_des"
   ]
  },
  {
   "cell_type": "code",
   "execution_count": 45,
   "metadata": {},
   "outputs": [],
   "source": [
    "def decode_emoji(emoji_code):\n",
    "    return chr(int(emoji_code[2:], 16))\n",
    "emoji_des0 = {decode_emoji(k): v for k, v in emoji_des0.items()}"
   ]
  },
  {
   "cell_type": "code",
   "execution_count": 46,
   "metadata": {},
   "outputs": [],
   "source": [
    "emoji_des_fn = \"emoji_table.txt\"\n",
    "emoji_table = [l.strip().split(\"\\t\") for l in open(emoji_des_fn).readlines()]\n",
    "emoji_des = {}\n",
    "for d,k in emoji_table:\n",
    "    d = d.lower()\n",
    "    if k in emoji_des:\n",
    "        emoji_des[k].append(d)\n",
    "    else:\n",
    "        emoji_des[k] = [d]\n",
    "# emoji_des = {k:\", \".join(v) for k,v in emoji_des.items()}\n",
    "emoji_des1 = emoji_des\n"
   ]
  },
  {
   "cell_type": "code",
   "execution_count": 47,
   "metadata": {},
   "outputs": [
    {
     "data": {
      "text/plain": [
       "(1012, 1661)"
      ]
     },
     "execution_count": 47,
     "metadata": {},
     "output_type": "execute_result"
    }
   ],
   "source": [
    "len(emoji_des0), len(emoji_des1)"
   ]
  },
  {
   "cell_type": "code",
   "execution_count": 49,
   "metadata": {},
   "outputs": [],
   "source": [
    "def merge_lists(list1, list2):\n",
    "    d = dict.fromkeys(list1)\n",
    "    d.update(dict.fromkeys(list2))\n",
    "    return list(d.keys())\n",
    "\n",
    "emoji_des = emoji_des0\n",
    "for k,v in emoji_des1.items():\n",
    "    if k not in emoji_des:\n",
    "        emoji_des[k] = v\n",
    "    else:\n",
    "        emoji_des[k] = merge_lists(emoji_des[k], v)\n"
   ]
  },
  {
   "cell_type": "code",
   "execution_count": 51,
   "metadata": {},
   "outputs": [
    {
     "data": {
      "text/plain": [
       "1735"
      ]
     },
     "execution_count": 51,
     "metadata": {},
     "output_type": "execute_result"
    }
   ],
   "source": [
    "len(emoji_des)"
   ]
  },
  {
   "cell_type": "code",
   "execution_count": 53,
   "metadata": {},
   "outputs": [],
   "source": [
    "emoji_des = {k:\", \".join(v) for k,v in emoji_des.items()}"
   ]
  },
  {
   "cell_type": "code",
   "execution_count": 55,
   "metadata": {},
   "outputs": [
    {
     "data": {
      "text/plain": [
       "'weight lifter, weightlifting'"
      ]
     },
     "execution_count": 55,
     "metadata": {},
     "output_type": "execute_result"
    }
   ],
   "source": [
    "# emoji_des0['🕟'],\n",
    "emoji_des['🏋']"
   ]
  },
  {
   "cell_type": "code",
   "execution_count": 56,
   "metadata": {},
   "outputs": [],
   "source": [
    "emoji_embeddings = {k:model.encode(v) for k,v in emoji_des.items()}"
   ]
  },
  {
   "cell_type": "code",
   "execution_count": 57,
   "metadata": {},
   "outputs": [
    {
     "data": {
      "text/plain": [
       "1735"
      ]
     },
     "execution_count": 57,
     "metadata": {},
     "output_type": "execute_result"
    }
   ],
   "source": [
    "len(emoji_embeddings)"
   ]
  },
  {
   "cell_type": "code",
   "execution_count": 58,
   "metadata": {},
   "outputs": [],
   "source": [
    "import pickle\n",
    "# save emoji_embeddings\n",
    "pickle.dump(emoji_embeddings, open('emoji_embeddings.pkl', 'wb'))\n",
    "\n",
    "# load emoji_embeddings\n",
    "emoji_embeddings = pickle.load(open('emoji_embeddings.pkl', 'rb'))"
   ]
  },
  {
   "cell_type": "code",
   "execution_count": 59,
   "metadata": {},
   "outputs": [],
   "source": [
    "nomred_emoji_embeddings = {k:v/norm(v) for k,v in emoji_embeddings.items()}\n",
    "pickle.dump(nomred_emoji_embeddings, open('emoji_normed_embeddings.pkl', 'wb'))\n",
    "emoji_embeddings = pickle.load(open('emoji_normed_embeddings.pkl', 'rb'))"
   ]
  },
  {
   "cell_type": "code",
   "execution_count": 60,
   "metadata": {},
   "outputs": [],
   "source": [
    "import numpy as np\n",
    "emoji_list = np.array(list(emoji_embeddings.keys()))\n",
    "\n",
    "# emoji_list = np.array([decode_emoji(emoji_code) for emoji_code in emoji_code_list])"
   ]
  },
  {
   "cell_type": "code",
   "execution_count": 61,
   "metadata": {},
   "outputs": [],
   "source": [
    "emoji_Fs = np.stack(list(emoji_embeddings.values()))"
   ]
  },
  {
   "cell_type": "code",
   "execution_count": 62,
   "metadata": {},
   "outputs": [],
   "source": [
    "# dump emoji_Fs use numpy\n",
    "\n",
    "np.save(\"emoji.npy\", {\"emoji_features\": emoji_Fs, \"emoji_list\": emoji_list})\n",
    "    \n"
   ]
  },
  {
   "cell_type": "markdown",
   "metadata": {},
   "source": [
    "emoji = np.load('emoji.npy', allow_pickle=True).item()\n",
    "emoji_features = emoji['emoji_features']\n"
   ]
  }
 ],
 "metadata": {
  "kernelspec": {
   "display_name": "venv",
   "language": "python",
   "name": "python3"
  },
  "language_info": {
   "codemirror_mode": {
    "name": "ipython",
    "version": 3
   },
   "file_extension": ".py",
   "mimetype": "text/x-python",
   "name": "python",
   "nbconvert_exporter": "python",
   "pygments_lexer": "ipython3",
   "version": "3.10.13"
  }
 },
 "nbformat": 4,
 "nbformat_minor": 2
}
